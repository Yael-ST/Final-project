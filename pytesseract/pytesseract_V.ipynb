{
 "cells": [
  {
   "cell_type": "code",
   "execution_count": 3,
   "metadata": {},
   "outputs": [
    {
     "name": "stdout",
     "output_type": "stream",
     "text": [
      "Defaulting to user installation because normal site-packages is not writeable\n",
      "Requirement already satisfied: pytesseract in c:\\users\\win 10\\appdata\\roaming\\python\\python311\\site-packages (0.3.10)\n",
      "Requirement already satisfied: packaging>=21.3 in c:\\programdata\\anaconda3\\lib\\site-packages (from pytesseract) (23.1)\n",
      "Requirement already satisfied: Pillow>=8.0.0 in c:\\programdata\\anaconda3\\lib\\site-packages (from pytesseract) (9.4.0)\n",
      "Note: you may need to restart the kernel to use updated packages.\n"
     ]
    }
   ],
   "source": [
    "pip install  --trusted-host pypi.org --trusted-host files.pythonhosted.org pytesseract\n"
   ]
  },
  {
   "cell_type": "code",
   "execution_count": 4,
   "metadata": {},
   "outputs": [
    {
     "name": "stdout",
     "output_type": "stream",
     "text": [
      "Defaulting to user installation because normal site-packages is not writeable\n",
      "Requirement already satisfied: tesseract in c:\\users\\win 10\\appdata\\roaming\\python\\python311\\site-packages (0.1.3)\n",
      "Note: you may need to restart the kernel to use updated packages.\n"
     ]
    }
   ],
   "source": [
    "pip install  --trusted-host pypi.org --trusted-host files.pythonhosted.org tesseract\n"
   ]
  },
  {
   "cell_type": "code",
   "execution_count": 1,
   "metadata": {},
   "outputs": [],
   "source": [
    "import pytesseract\n",
    "pytesseract.pytesseract.tesseract_cmd = r'C:\\Program Files\\Tesseract-OCR\\tesseract.exe'\n",
    "import os\n",
    "os.environ['TESSDATA_PREFIX'] = r'C:\\Program Files\\Tesseract-OCR\\tessdata'"
   ]
  },
  {
   "cell_type": "code",
   "execution_count": 5,
   "metadata": {},
   "outputs": [
    {
     "name": "stdout",
     "output_type": "stream",
     "text": [
      "(AB = AC) ABC ‏נתון משולש שווה-\"שוקיים‎\n",
      "\n",
      "שבו אורך הגובה ‎AD‏ לבסיס ‎BC‏ הוא 12 ס\"מ,\n",
      "\n",
      "ואורך הבסיס ‎BC‏ הוא 10 ס\"מ.\n",
      "\n",
      "‎NAM‏ נקודה כלשהי על הגובה םא.\n",
      "\n",
      "‎.MD=x ‏נסמן:‎\n",
      "\n",
      "‎% ‏מצא עבור איזה ערך של‎ LN\n",
      "‏הוא מינימלי.‎ AM + MB + MC ‏סכום הקטעים‎\n",
      "‏תוכל להשאיר שורש בתשובתך.‎\n",
      "\n",
      "‏ב. \\ חשב את גודלהזווית ‎BMC‏ עבור הערך של ‎x‏ שמצאת בסעיף א.\n",
      "\n"
     ]
    }
   ],
   "source": [
    "import pytesseract\n",
    "from PIL import Image\n",
    "\n",
    "# Open the image file\n",
    "image = Image.open('yy.jpg')\n",
    "# Perform OCR using PyTesseract\n",
    "text = pytesseract.image_to_string(image, lang='heb+eng')\n",
    "\n",
    "# Print the extracted text\n",
    "print(text)\n"
   ]
  }
 ],
 "metadata": {
  "kernelspec": {
   "display_name": "base",
   "language": "python",
   "name": "python3"
  },
  "language_info": {
   "codemirror_mode": {
    "name": "ipython",
    "version": 3
   },
   "file_extension": ".py",
   "mimetype": "text/x-python",
   "name": "python",
   "nbconvert_exporter": "python",
   "pygments_lexer": "ipython3",
   "version": "3.11.5"
  }
 },
 "nbformat": 4,
 "nbformat_minor": 2
}
